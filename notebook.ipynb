{
 "cells": [
  {
   "cell_type": "code",
   "execution_count": 1,
   "id": "8e3fd8e6-1ddb-4e20-90fd-08cc10984f49",
   "metadata": {
    "tags": []
   },
   "outputs": [],
   "source": [
    "import numpy as np\n",
    "import pandas as pd\n",
    "import matplotlib.pyplot as plt\n",
    "import seaborn as sns\n",
    "%matplotlib inline\n",
    "from sklearn.model_selection import train_test_split\n",
    "from IPython.display import display"
   ]
  },
  {
   "cell_type": "markdown",
   "id": "42b89849-1a79-4faa-b418-1175de2d58d1",
   "metadata": {
    "tags": []
   },
   "source": [
    "## Dataset"
   ]
  },
  {
   "cell_type": "markdown",
   "id": "74170c91-e3f3-4674-81aa-a960ee417859",
   "metadata": {},
   "source": [
    "Attribute Information\n",
    "1) id: unique identifier\n",
    "2) gender: \"Male\", \"Female\" or \"Other\"\n",
    "3) age: age of the patient\n",
    "4) hypertension: 0 if the patient doesn't have hypertension, 1 if the patient has hypertension\n",
    "5) heart_disease: 0 if the patient doesn't have any heart diseases, 1 if the patient has a heart disease\n",
    "6) ever_married: \"No\" or \"Yes\"\n",
    "7) work_type: \"children\", \"Govt_jov\", \"Never_worked\", \"Private\" or \"Self-employed\"\n",
    "8) Residence_type: \"Rural\" or \"Urban\"\n",
    "9) avg_glucose_level: average glucose level in blood\n",
    "10) bmi: body mass index\n",
    "11) smoking_status: \"formerly smoked\", \"never smoked\", \"smokes\" or \"Unknown\"*\n",
    "12) stroke: 1 if the patient had a stroke or 0 if not"
   ]
  },
  {
   "cell_type": "code",
   "execution_count": 2,
   "id": "8a6b0460-9e44-487f-bc37-cbeee2839708",
   "metadata": {
    "tags": []
   },
   "outputs": [
    {
     "data": {
      "text/html": [
       "<div>\n",
       "<style scoped>\n",
       "    .dataframe tbody tr th:only-of-type {\n",
       "        vertical-align: middle;\n",
       "    }\n",
       "\n",
       "    .dataframe tbody tr th {\n",
       "        vertical-align: top;\n",
       "    }\n",
       "\n",
       "    .dataframe thead th {\n",
       "        text-align: right;\n",
       "    }\n",
       "</style>\n",
       "<table border=\"1\" class=\"dataframe\">\n",
       "  <thead>\n",
       "    <tr style=\"text-align: right;\">\n",
       "      <th></th>\n",
       "      <th>id</th>\n",
       "      <th>gender</th>\n",
       "      <th>age</th>\n",
       "      <th>hypertension</th>\n",
       "      <th>heart_disease</th>\n",
       "      <th>ever_married</th>\n",
       "      <th>work_type</th>\n",
       "      <th>Residence_type</th>\n",
       "      <th>avg_glucose_level</th>\n",
       "      <th>bmi</th>\n",
       "      <th>smoking_status</th>\n",
       "      <th>stroke</th>\n",
       "    </tr>\n",
       "  </thead>\n",
       "  <tbody>\n",
       "    <tr>\n",
       "      <th>0</th>\n",
       "      <td>9046</td>\n",
       "      <td>Male</td>\n",
       "      <td>67.0</td>\n",
       "      <td>0</td>\n",
       "      <td>1</td>\n",
       "      <td>Yes</td>\n",
       "      <td>Private</td>\n",
       "      <td>Urban</td>\n",
       "      <td>228.69</td>\n",
       "      <td>36.6</td>\n",
       "      <td>formerly smoked</td>\n",
       "      <td>1</td>\n",
       "    </tr>\n",
       "    <tr>\n",
       "      <th>1</th>\n",
       "      <td>51676</td>\n",
       "      <td>Female</td>\n",
       "      <td>61.0</td>\n",
       "      <td>0</td>\n",
       "      <td>0</td>\n",
       "      <td>Yes</td>\n",
       "      <td>Self-employed</td>\n",
       "      <td>Rural</td>\n",
       "      <td>202.21</td>\n",
       "      <td>NaN</td>\n",
       "      <td>never smoked</td>\n",
       "      <td>1</td>\n",
       "    </tr>\n",
       "    <tr>\n",
       "      <th>2</th>\n",
       "      <td>31112</td>\n",
       "      <td>Male</td>\n",
       "      <td>80.0</td>\n",
       "      <td>0</td>\n",
       "      <td>1</td>\n",
       "      <td>Yes</td>\n",
       "      <td>Private</td>\n",
       "      <td>Rural</td>\n",
       "      <td>105.92</td>\n",
       "      <td>32.5</td>\n",
       "      <td>never smoked</td>\n",
       "      <td>1</td>\n",
       "    </tr>\n",
       "    <tr>\n",
       "      <th>3</th>\n",
       "      <td>60182</td>\n",
       "      <td>Female</td>\n",
       "      <td>49.0</td>\n",
       "      <td>0</td>\n",
       "      <td>0</td>\n",
       "      <td>Yes</td>\n",
       "      <td>Private</td>\n",
       "      <td>Urban</td>\n",
       "      <td>171.23</td>\n",
       "      <td>34.4</td>\n",
       "      <td>smokes</td>\n",
       "      <td>1</td>\n",
       "    </tr>\n",
       "    <tr>\n",
       "      <th>4</th>\n",
       "      <td>1665</td>\n",
       "      <td>Female</td>\n",
       "      <td>79.0</td>\n",
       "      <td>1</td>\n",
       "      <td>0</td>\n",
       "      <td>Yes</td>\n",
       "      <td>Self-employed</td>\n",
       "      <td>Rural</td>\n",
       "      <td>174.12</td>\n",
       "      <td>24.0</td>\n",
       "      <td>never smoked</td>\n",
       "      <td>1</td>\n",
       "    </tr>\n",
       "  </tbody>\n",
       "</table>\n",
       "</div>"
      ],
      "text/plain": [
       "      id  gender   age  hypertension  heart_disease ever_married  \\\n",
       "0   9046    Male  67.0             0              1          Yes   \n",
       "1  51676  Female  61.0             0              0          Yes   \n",
       "2  31112    Male  80.0             0              1          Yes   \n",
       "3  60182  Female  49.0             0              0          Yes   \n",
       "4   1665  Female  79.0             1              0          Yes   \n",
       "\n",
       "       work_type Residence_type  avg_glucose_level   bmi   smoking_status  \\\n",
       "0        Private          Urban             228.69  36.6  formerly smoked   \n",
       "1  Self-employed          Rural             202.21   NaN     never smoked   \n",
       "2        Private          Rural             105.92  32.5     never smoked   \n",
       "3        Private          Urban             171.23  34.4           smokes   \n",
       "4  Self-employed          Rural             174.12  24.0     never smoked   \n",
       "\n",
       "   stroke  \n",
       "0       1  \n",
       "1       1  \n",
       "2       1  \n",
       "3       1  \n",
       "4       1  "
      ]
     },
     "execution_count": 2,
     "metadata": {},
     "output_type": "execute_result"
    }
   ],
   "source": [
    "df = pd.read_csv('healthcare-dataset-stroke-data.csv')\n",
    "df.head()"
   ]
  },
  {
   "cell_type": "code",
   "execution_count": 3,
   "id": "f4409a88-49ff-44fc-9828-0f2d48ff6a1e",
   "metadata": {
    "tags": []
   },
   "outputs": [],
   "source": [
    "df.columns = df.columns.str.lower()"
   ]
  },
  {
   "cell_type": "markdown",
   "id": "935350e2-5e52-4da9-ac98-d12f5c867d62",
   "metadata": {
    "tags": []
   },
   "source": [
    "## Data cleaning and exploration"
   ]
  },
  {
   "cell_type": "code",
   "execution_count": 4,
   "id": "2afb08b6-0475-4863-9984-5b91042c7113",
   "metadata": {
    "tags": []
   },
   "outputs": [
    {
     "name": "stdout",
     "output_type": "stream",
     "text": [
      "<class 'pandas.core.frame.DataFrame'>\n",
      "RangeIndex: 5110 entries, 0 to 5109\n",
      "Data columns (total 12 columns):\n",
      " #   Column             Non-Null Count  Dtype  \n",
      "---  ------             --------------  -----  \n",
      " 0   id                 5110 non-null   int64  \n",
      " 1   gender             5110 non-null   object \n",
      " 2   age                5110 non-null   float64\n",
      " 3   hypertension       5110 non-null   int64  \n",
      " 4   heart_disease      5110 non-null   int64  \n",
      " 5   ever_married       5110 non-null   object \n",
      " 6   work_type          5110 non-null   object \n",
      " 7   residence_type     5110 non-null   object \n",
      " 8   avg_glucose_level  5110 non-null   float64\n",
      " 9   bmi                4909 non-null   float64\n",
      " 10  smoking_status     5110 non-null   object \n",
      " 11  stroke             5110 non-null   int64  \n",
      "dtypes: float64(3), int64(4), object(5)\n",
      "memory usage: 479.2+ KB\n"
     ]
    }
   ],
   "source": [
    "df.info()"
   ]
  },
  {
   "cell_type": "markdown",
   "id": "80bca365-3cae-4406-8ca5-1575656750c5",
   "metadata": {
    "tags": []
   },
   "source": [
    "### Null values"
   ]
  },
  {
   "cell_type": "code",
   "execution_count": 5,
   "id": "58c1adf0-6903-4cb2-8c14-8f30a4fe8e19",
   "metadata": {
    "tags": []
   },
   "outputs": [
    {
     "data": {
      "text/plain": [
       "id                     0\n",
       "gender                 0\n",
       "age                    0\n",
       "hypertension           0\n",
       "heart_disease          0\n",
       "ever_married           0\n",
       "work_type              0\n",
       "residence_type         0\n",
       "avg_glucose_level      0\n",
       "bmi                  201\n",
       "smoking_status         0\n",
       "stroke                 0\n",
       "dtype: int64"
      ]
     },
     "execution_count": 5,
     "metadata": {},
     "output_type": "execute_result"
    }
   ],
   "source": [
    "df.isna().sum()"
   ]
  },
  {
   "cell_type": "code",
   "execution_count": 6,
   "id": "891cdf41-6b51-4da9-b290-1b7cdb2cbc42",
   "metadata": {
    "tags": []
   },
   "outputs": [],
   "source": [
    "df.bmi.fillna(df.bmi.mean(), inplace=True)"
   ]
  },
  {
   "cell_type": "markdown",
   "id": "823b3d90-03a3-4b4d-9c2d-032516d69edc",
   "metadata": {
    "tags": []
   },
   "source": [
    "### Duplicates"
   ]
  },
  {
   "cell_type": "code",
   "execution_count": 7,
   "id": "9c19b15f-9e0a-48b3-9057-6ae1144c51b5",
   "metadata": {
    "tags": []
   },
   "outputs": [
    {
     "data": {
      "text/html": [
       "<div>\n",
       "<style scoped>\n",
       "    .dataframe tbody tr th:only-of-type {\n",
       "        vertical-align: middle;\n",
       "    }\n",
       "\n",
       "    .dataframe tbody tr th {\n",
       "        vertical-align: top;\n",
       "    }\n",
       "\n",
       "    .dataframe thead th {\n",
       "        text-align: right;\n",
       "    }\n",
       "</style>\n",
       "<table border=\"1\" class=\"dataframe\">\n",
       "  <thead>\n",
       "    <tr style=\"text-align: right;\">\n",
       "      <th></th>\n",
       "      <th>id</th>\n",
       "      <th>gender</th>\n",
       "      <th>age</th>\n",
       "      <th>hypertension</th>\n",
       "      <th>heart_disease</th>\n",
       "      <th>ever_married</th>\n",
       "      <th>work_type</th>\n",
       "      <th>residence_type</th>\n",
       "      <th>avg_glucose_level</th>\n",
       "      <th>bmi</th>\n",
       "      <th>smoking_status</th>\n",
       "      <th>stroke</th>\n",
       "    </tr>\n",
       "  </thead>\n",
       "  <tbody>\n",
       "  </tbody>\n",
       "</table>\n",
       "</div>"
      ],
      "text/plain": [
       "Empty DataFrame\n",
       "Columns: [id, gender, age, hypertension, heart_disease, ever_married, work_type, residence_type, avg_glucose_level, bmi, smoking_status, stroke]\n",
       "Index: []"
      ]
     },
     "execution_count": 7,
     "metadata": {},
     "output_type": "execute_result"
    }
   ],
   "source": [
    "df[df.duplicated()]"
   ]
  },
  {
   "cell_type": "markdown",
   "id": "51eda216-e431-4a76-8f87-69d4ea97a0ac",
   "metadata": {
    "tags": []
   },
   "source": [
    "### Summary statistics for features"
   ]
  },
  {
   "cell_type": "code",
   "execution_count": 8,
   "id": "2433940d-4a67-427c-83c5-54931239ba6b",
   "metadata": {
    "tags": []
   },
   "outputs": [
    {
     "data": {
      "text/html": [
       "<div>\n",
       "<style scoped>\n",
       "    .dataframe tbody tr th:only-of-type {\n",
       "        vertical-align: middle;\n",
       "    }\n",
       "\n",
       "    .dataframe tbody tr th {\n",
       "        vertical-align: top;\n",
       "    }\n",
       "\n",
       "    .dataframe thead th {\n",
       "        text-align: right;\n",
       "    }\n",
       "</style>\n",
       "<table border=\"1\" class=\"dataframe\">\n",
       "  <thead>\n",
       "    <tr style=\"text-align: right;\">\n",
       "      <th></th>\n",
       "      <th>id</th>\n",
       "      <th>age</th>\n",
       "      <th>hypertension</th>\n",
       "      <th>heart_disease</th>\n",
       "      <th>avg_glucose_level</th>\n",
       "      <th>bmi</th>\n",
       "      <th>stroke</th>\n",
       "    </tr>\n",
       "  </thead>\n",
       "  <tbody>\n",
       "    <tr>\n",
       "      <th>count</th>\n",
       "      <td>5110.000000</td>\n",
       "      <td>5110.000000</td>\n",
       "      <td>5110.000000</td>\n",
       "      <td>5110.000000</td>\n",
       "      <td>5110.000000</td>\n",
       "      <td>5110.000000</td>\n",
       "      <td>5110.000000</td>\n",
       "    </tr>\n",
       "    <tr>\n",
       "      <th>mean</th>\n",
       "      <td>36517.829354</td>\n",
       "      <td>43.226614</td>\n",
       "      <td>0.097456</td>\n",
       "      <td>0.054012</td>\n",
       "      <td>106.147677</td>\n",
       "      <td>28.893237</td>\n",
       "      <td>0.048728</td>\n",
       "    </tr>\n",
       "    <tr>\n",
       "      <th>std</th>\n",
       "      <td>21161.721625</td>\n",
       "      <td>22.612647</td>\n",
       "      <td>0.296607</td>\n",
       "      <td>0.226063</td>\n",
       "      <td>45.283560</td>\n",
       "      <td>7.698018</td>\n",
       "      <td>0.215320</td>\n",
       "    </tr>\n",
       "    <tr>\n",
       "      <th>min</th>\n",
       "      <td>67.000000</td>\n",
       "      <td>0.080000</td>\n",
       "      <td>0.000000</td>\n",
       "      <td>0.000000</td>\n",
       "      <td>55.120000</td>\n",
       "      <td>10.300000</td>\n",
       "      <td>0.000000</td>\n",
       "    </tr>\n",
       "    <tr>\n",
       "      <th>25%</th>\n",
       "      <td>17741.250000</td>\n",
       "      <td>25.000000</td>\n",
       "      <td>0.000000</td>\n",
       "      <td>0.000000</td>\n",
       "      <td>77.245000</td>\n",
       "      <td>23.800000</td>\n",
       "      <td>0.000000</td>\n",
       "    </tr>\n",
       "    <tr>\n",
       "      <th>50%</th>\n",
       "      <td>36932.000000</td>\n",
       "      <td>45.000000</td>\n",
       "      <td>0.000000</td>\n",
       "      <td>0.000000</td>\n",
       "      <td>91.885000</td>\n",
       "      <td>28.400000</td>\n",
       "      <td>0.000000</td>\n",
       "    </tr>\n",
       "    <tr>\n",
       "      <th>75%</th>\n",
       "      <td>54682.000000</td>\n",
       "      <td>61.000000</td>\n",
       "      <td>0.000000</td>\n",
       "      <td>0.000000</td>\n",
       "      <td>114.090000</td>\n",
       "      <td>32.800000</td>\n",
       "      <td>0.000000</td>\n",
       "    </tr>\n",
       "    <tr>\n",
       "      <th>max</th>\n",
       "      <td>72940.000000</td>\n",
       "      <td>82.000000</td>\n",
       "      <td>1.000000</td>\n",
       "      <td>1.000000</td>\n",
       "      <td>271.740000</td>\n",
       "      <td>97.600000</td>\n",
       "      <td>1.000000</td>\n",
       "    </tr>\n",
       "  </tbody>\n",
       "</table>\n",
       "</div>"
      ],
      "text/plain": [
       "                 id          age  hypertension  heart_disease  \\\n",
       "count   5110.000000  5110.000000   5110.000000    5110.000000   \n",
       "mean   36517.829354    43.226614      0.097456       0.054012   \n",
       "std    21161.721625    22.612647      0.296607       0.226063   \n",
       "min       67.000000     0.080000      0.000000       0.000000   \n",
       "25%    17741.250000    25.000000      0.000000       0.000000   \n",
       "50%    36932.000000    45.000000      0.000000       0.000000   \n",
       "75%    54682.000000    61.000000      0.000000       0.000000   \n",
       "max    72940.000000    82.000000      1.000000       1.000000   \n",
       "\n",
       "       avg_glucose_level          bmi       stroke  \n",
       "count        5110.000000  5110.000000  5110.000000  \n",
       "mean          106.147677    28.893237     0.048728  \n",
       "std            45.283560     7.698018     0.215320  \n",
       "min            55.120000    10.300000     0.000000  \n",
       "25%            77.245000    23.800000     0.000000  \n",
       "50%            91.885000    28.400000     0.000000  \n",
       "75%           114.090000    32.800000     0.000000  \n",
       "max           271.740000    97.600000     1.000000  "
      ]
     },
     "execution_count": 8,
     "metadata": {},
     "output_type": "execute_result"
    }
   ],
   "source": [
    "df.describe()"
   ]
  },
  {
   "cell_type": "markdown",
   "id": "e804b0f0-8748-4570-ac48-db3d26bda915",
   "metadata": {
    "tags": []
   },
   "source": [
    "### Categorical features"
   ]
  },
  {
   "cell_type": "code",
   "execution_count": 9,
   "id": "d6cb400b-10af-4a23-98e1-8450370b7fc0",
   "metadata": {
    "tags": []
   },
   "outputs": [
    {
     "name": "stdout",
     "output_type": "stream",
     "text": [
      "gender\n",
      "['Male' 'Female' 'Other'] \n",
      "\n",
      "hypertension\n",
      "[0 1] \n",
      "\n",
      "heart_disease\n",
      "[1 0] \n",
      "\n",
      "ever_married\n",
      "['Yes' 'No'] \n",
      "\n",
      "work_type\n",
      "['Private' 'Self-employed' 'Govt_job' 'children' 'Never_worked'] \n",
      "\n",
      "residence_type\n",
      "['Urban' 'Rural'] \n",
      "\n",
      "smoking_status\n",
      "['formerly smoked' 'never smoked' 'smokes' 'Unknown'] \n",
      "\n"
     ]
    }
   ],
   "source": [
    "categorical = ['gender', 'hypertension', 'heart_disease', 'ever_married', 'work_type', 'residence_type', 'smoking_status']\n",
    "numerical = ['age','avg_glucose_level', 'bmi']\n",
    "for val in categorical:\n",
    "    print(val)\n",
    "    print(df[val].unique(), '\\n')"
   ]
  },
  {
   "cell_type": "code",
   "execution_count": 10,
   "id": "3cef8ec4-9feb-4574-bc10-919a64d0bc8e",
   "metadata": {},
   "outputs": [
    {
     "data": {
      "text/html": [
       "<div>\n",
       "<style scoped>\n",
       "    .dataframe tbody tr th:only-of-type {\n",
       "        vertical-align: middle;\n",
       "    }\n",
       "\n",
       "    .dataframe tbody tr th {\n",
       "        vertical-align: top;\n",
       "    }\n",
       "\n",
       "    .dataframe thead th {\n",
       "        text-align: right;\n",
       "    }\n",
       "</style>\n",
       "<table border=\"1\" class=\"dataframe\">\n",
       "  <thead>\n",
       "    <tr style=\"text-align: right;\">\n",
       "      <th></th>\n",
       "      <th>id</th>\n",
       "      <th>gender</th>\n",
       "      <th>age</th>\n",
       "      <th>hypertension</th>\n",
       "      <th>heart_disease</th>\n",
       "      <th>ever_married</th>\n",
       "      <th>work_type</th>\n",
       "      <th>residence_type</th>\n",
       "      <th>avg_glucose_level</th>\n",
       "      <th>bmi</th>\n",
       "      <th>smoking_status</th>\n",
       "      <th>stroke</th>\n",
       "    </tr>\n",
       "  </thead>\n",
       "  <tbody>\n",
       "    <tr>\n",
       "      <th>3116</th>\n",
       "      <td>56156</td>\n",
       "      <td>Other</td>\n",
       "      <td>26.0</td>\n",
       "      <td>0</td>\n",
       "      <td>0</td>\n",
       "      <td>No</td>\n",
       "      <td>Private</td>\n",
       "      <td>Rural</td>\n",
       "      <td>143.33</td>\n",
       "      <td>22.4</td>\n",
       "      <td>formerly smoked</td>\n",
       "      <td>0</td>\n",
       "    </tr>\n",
       "  </tbody>\n",
       "</table>\n",
       "</div>"
      ],
      "text/plain": [
       "         id gender   age  hypertension  heart_disease ever_married work_type  \\\n",
       "3116  56156  Other  26.0             0              0           No   Private   \n",
       "\n",
       "     residence_type  avg_glucose_level   bmi   smoking_status  stroke  \n",
       "3116          Rural             143.33  22.4  formerly smoked       0  "
      ]
     },
     "execution_count": 10,
     "metadata": {},
     "output_type": "execute_result"
    }
   ],
   "source": [
    "df[df.gender=='Other']"
   ]
  },
  {
   "cell_type": "markdown",
   "id": "090c5f13-b998-44a4-bb29-dd0bb351e84f",
   "metadata": {},
   "source": [
    "There is only one example with gender 'Other' so i deside to delete it"
   ]
  },
  {
   "cell_type": "code",
   "execution_count": 11,
   "id": "5a582363-d26f-4dc0-a0ef-ebbf7a8bbd66",
   "metadata": {},
   "outputs": [],
   "source": [
    "df.drop(3116, axis=0, inplace=True)\n",
    "df.reset_index(drop=True, inplace=True)"
   ]
  },
  {
   "cell_type": "code",
   "execution_count": 12,
   "id": "ab282175-8a90-4c82-9d26-d7e0ac214bfe",
   "metadata": {
    "tags": []
   },
   "outputs": [],
   "source": [
    "df.drop('id', axis=1, inplace=True)"
   ]
  },
  {
   "cell_type": "markdown",
   "id": "c23cb3ff-b07e-4964-b18b-3ee705a5ac92",
   "metadata": {
    "tags": []
   },
   "source": [
    "## Train, test and validation data split"
   ]
  },
  {
   "cell_type": "code",
   "execution_count": 14,
   "id": "90633636-4b2a-467d-863e-96cd04b21832",
   "metadata": {
    "tags": []
   },
   "outputs": [],
   "source": [
    "df_train_full, df_test = train_test_split(df, test_size=0.2, random_state=4)\n",
    "df_train, df_val = train_test_split(df_train_full, test_size=0.25, random_state=4)"
   ]
  },
  {
   "cell_type": "markdown",
   "id": "c0d0e505-bcaa-4565-8b08-7863c196f699",
   "metadata": {
    "tags": []
   },
   "source": [
    "## EDA"
   ]
  },
  {
   "cell_type": "markdown",
   "id": "da9766c1-aa85-4568-b65f-e72dfbc8f6bf",
   "metadata": {
    "tags": []
   },
   "source": [
    "### Categorical features"
   ]
  },
  {
   "cell_type": "code",
   "execution_count": 15,
   "id": "61cefdc9-6ea1-42fc-a0c5-01124f3f67fe",
   "metadata": {
    "tags": []
   },
   "outputs": [
    {
     "data": {
      "image/png": "[encoded data removed]",
      "text/plain": [
       "<Figure size 1000x800 with 7 Axes>"
      ]
     },
     "metadata": {},
     "output_type": "display_data"
    }
   ],
   "source": [
    "plt.figure(figsize=(10, 8))\n",
    "plt.subplots_adjust(left=0.1, bottom=0.1, right=0.9, top=0.9, wspace=0.4, hspace=0.4)\n",
    "for i in range(0, len(categorical)):\n",
    "    plt.subplot(3, 3, i+1)\n",
    "    df_train_full[categorical[i]].value_counts().plot.bar()\n",
    "    plt.grid(axis='y')"
   ]
  },
  {
   "cell_type": "markdown",
   "id": "482044f1-d3db-44a5-b3b4-a1bf4e0765dd",
   "metadata": {},
   "source": [
    "### Nimerical features"
   ]
  },
  {
   "cell_type": "code",
   "execution_count": 16,
   "id": "6799739f-0f3e-4b2d-8474-6c9025ef39b7",
   "metadata": {
    "tags": []
   },
   "outputs": [
    {
     "data": {
      "image/png": "[encoded data removed]",
      "text/plain": [
       "<Figure size 1200x300 with 3 Axes>"
      ]
     },
     "metadata": {},
     "output_type": "display_data"
    }
   ],
   "source": [
    "plt.figure(figsize=(12, 3))\n",
    "for i in range(0, len(numerical)):\n",
    "    plt.subplot(1, 3, i+1)\n",
    "    plt.title(numerical[i])\n",
    "    df_train_full[numerical[i]].hist(bins=20)"
   ]
  },
  {
   "cell_type": "markdown",
   "id": "40f1aa28-da1b-4fe5-9dc1-2bd8751a4de7",
   "metadata": {
    "tags": []
   },
   "source": [
    "### Target feature"
   ]
  },
  {
   "cell_type": "code",
   "execution_count": 17,
   "id": "751c818c-8630-411d-a59a-d78c083b9bf9",
   "metadata": {
    "tags": []
   },
   "outputs": [
    {
     "data": {
      "image/png": "[encoded data removed]",
      "text/plain": [
       "<Figure size 640x480 with 1 Axes>"
      ]
     },
     "metadata": {},
     "output_type": "display_data"
    }
   ],
   "source": [
    "plt.pie(df_train_full.stroke.value_counts(), autopct='%1.1f%%', labels = [\"Don't have stroke\", \"Have a stroke\"]);"
   ]
  },
  {
   "cell_type": "markdown",
   "id": "3001211e-c9e5-46fa-94d1-b0f873c48800",
   "metadata": {
    "tags": []
   },
   "source": [
    "### Feature importance"
   ]
  },
  {
   "cell_type": "markdown",
   "id": "53ad00b6-860a-4bb1-a415-31ecb9d4038d",
   "metadata": {},
   "source": [
    "#### Mutual information"
   ]
  },
  {
   "cell_type": "code",
   "execution_count": 18,
   "id": "b2b08608-f9a2-432a-bce9-bc4efa154219",
   "metadata": {
    "tags": []
   },
   "outputs": [],
   "source": [
    "from sklearn.metrics import mutual_info_score\n",
    "def mutual_info(series):\n",
    "    return mutual_info_score(series, df_train_full.stroke)"
   ]
  },
  {
   "cell_type": "code",
   "execution_count": 19,
   "id": "daa49acc-570e-4e0e-adda-7b8d8ffea1d0",
   "metadata": {
    "tags": []
   },
   "outputs": [
    {
     "data": {
      "text/plain": [
       "work_type         0.007504\n",
       "ever_married      0.007349\n",
       "hypertension      0.006612\n",
       "heart_disease     0.005339\n",
       "smoking_status    0.002526\n",
       "residence_type    0.000364\n",
       "gender            0.000035\n",
       "dtype: float64"
      ]
     },
     "execution_count": 19,
     "metadata": {},
     "output_type": "execute_result"
    }
   ],
   "source": [
    "mi = df_train_full[categorical].apply(mutual_info)\n",
    "mi.sort_values(ascending=False)"
   ]
  },
  {
   "cell_type": "markdown",
   "id": "ac0f3a8e-3359-415d-b567-3c532d7b8846",
   "metadata": {},
   "source": [
    "#### Correlation"
   ]
  },
  {
   "cell_type": "code",
   "execution_count": 20,
   "id": "e9ed7ab9-5a19-4e73-acdf-1555b6e593b5",
   "metadata": {
    "tags": []
   },
   "outputs": [
    {
     "data": {
      "text/plain": [
       "<Axes: >"
      ]
     },
     "execution_count": 20,
     "metadata": {},
     "output_type": "execute_result"
    },
    {
     "data": {
      "image/png": "[encoded data removed]",
      "text/plain": [
       "<Figure size 640x480 with 2 Axes>"
      ]
     },
     "metadata": {},
     "output_type": "display_data"
    }
   ],
   "source": [
    "corr_matrix = df_train_full.corr(numeric_only=True).round(2)\n",
    "sns.heatmap(corr_matrix, annot=True)"
   ]
  },
  {
   "cell_type": "markdown",
   "id": "0ad686a5-e669-458b-b6ab-47d76ceda3d0",
   "metadata": {
    "tags": []
   },
   "source": [
    "## Data preparation"
   ]
  },
  {
   "cell_type": "code",
   "execution_count": 21,
   "id": "b793c489-1a95-4f23-8c3d-8d876aef2929",
   "metadata": {
    "tags": []
   },
   "outputs": [],
   "source": [
    "y_train= df_train['stroke']\n",
    "y_test =df_test['stroke']\n",
    "y_val =df_val['stroke']\n",
    "\n",
    "X_train = df_train.drop('stroke', axis=1)\n",
    "X_test = df_test.drop('stroke', axis=1)\n",
    "X_val = df_val.drop('stroke', axis=1)"
   ]
  },
  {
   "cell_type": "markdown",
   "id": "03e149c5-1d68-419b-a613-840e5b7498c9",
   "metadata": {},
   "source": [
    "### One-hot encoding"
   ]
  },
  {
   "cell_type": "code",
   "execution_count": 22,
   "id": "2fbb74cf-1165-4f5b-92d8-fb9aefb5d843",
   "metadata": {},
   "outputs": [],
   "source": [
    "from sklearn.feature_extraction import DictVectorizer\n",
    "dv = DictVectorizer(sparse=False)\n",
    "\n",
    "train_dict = X_train.to_dict(orient='records')\n",
    "\n",
    "val_dict = X_val.to_dict(orient='records')\n",
    "X_train = dv.fit_transform(train_dict)\n",
    "\n",
    "X_val = dv.transform(val_dict)"
   ]
  },
  {
   "cell_type": "markdown",
   "id": "02b2ed2f-a114-49c1-b0ae-8d5d8f0ce601",
   "metadata": {
    "tags": []
   },
   "source": [
    "## Models training"
   ]
  },
  {
   "cell_type": "code",
   "execution_count": 23,
   "id": "1cf40513-bd22-47ac-a260-aa019d0c10b2",
   "metadata": {
    "tags": []
   },
   "outputs": [],
   "source": [
    "from sklearn.metrics import roc_auc_score\n",
    "from sklearn.metrics import recall_score\n",
    "val_results = pd.DataFrame(columns=['model', 'params', 'roc_auc', 'recall'])\n",
    "model_results = pd.DataFrame(columns=['params', 'roc_auc', 'recall'])"
   ]
  },
  {
   "cell_type": "markdown",
   "id": "c2d773db-211d-45f3-a8f2-446aeca22d86",
   "metadata": {},
   "source": [
    "Here I used two metrics to evaluate models performance: roc_auc and recall. It's because the dataset is highly imbalanced(only 5% of the instances belong to the positive class). Recall shows what proportion of actual positives was identified correctly. So, by controlling recall value we don't get a situation where the model predicts all instances as negatives, but accuracy is still high because most of the instances are negative."
   ]
  },
  {
   "cell_type": "markdown",
   "id": "42ae2501-ae44-497b-8001-4106cee7c565",
   "metadata": {},
   "source": [
    "### Logistic Regerssion"
   ]
  },
  {
   "cell_type": "code",
   "execution_count": 24,
   "id": "9d757c91-af2f-4ccf-88ab-62054bf50c55",
   "metadata": {
    "tags": []
   },
   "outputs": [],
   "source": [
    "from sklearn.linear_model import LogisticRegression\n",
    "for solv, pen in [('lbfgs', 'l2'), ('liblinear', 'l1')]:\n",
    "    for c in [0.001, 0.01, 0.1, 1]:\n",
    "        lr = LogisticRegression(random_state=4, class_weight='balanced', C=c, solver=solv, penalty=pen, max_iter=1000)\n",
    "        lr.fit(X_train, y_train)\n",
    "        y_pred = lr.predict_proba(X_val)[:, 1]\n",
    "        roc_auc=roc_auc_score(y_val, y_pred)\n",
    "        recall = recall_score(y_val, y_pred.round())\n",
    "        model_results.loc[len(model_results)] = ['C=' +str(c)+ ' solver=' + str(solv)+' penalty='\n",
    "                                                 +str(pen), roc_auc, recall]"
   ]
  },
  {
   "cell_type": "code",
   "execution_count": 25,
   "id": "0a67d543-4535-4ae9-b8c1-31c0b61c0dac",
   "metadata": {
    "tags": []
   },
   "outputs": [
    {
     "data": {
      "text/html": [
       "<div>\n",
       "<style scoped>\n",
       "    .dataframe tbody tr th:only-of-type {\n",
       "        vertical-align: middle;\n",
       "    }\n",
       "\n",
       "    .dataframe tbody tr th {\n",
       "        vertical-align: top;\n",
       "    }\n",
       "\n",
       "    .dataframe thead th {\n",
       "        text-align: right;\n",
       "    }\n",
       "</style>\n",
       "<table border=\"1\" class=\"dataframe\">\n",
       "  <thead>\n",
       "    <tr style=\"text-align: right;\">\n",
       "      <th></th>\n",
       "      <th>params</th>\n",
       "      <th>roc_auc</th>\n",
       "      <th>recall</th>\n",
       "    </tr>\n",
       "  </thead>\n",
       "  <tbody>\n",
       "    <tr>\n",
       "      <th>5</th>\n",
       "      <td>C=0.01 solver=liblinear penalty=l1</td>\n",
       "      <td>0.820239</td>\n",
       "      <td>0.867925</td>\n",
       "    </tr>\n",
       "    <tr>\n",
       "      <th>4</th>\n",
       "      <td>C=0.001 solver=liblinear penalty=l1</td>\n",
       "      <td>0.819158</td>\n",
       "      <td>0.867925</td>\n",
       "    </tr>\n",
       "    <tr>\n",
       "      <th>0</th>\n",
       "      <td>C=0.001 solver=lbfgs penalty=l2</td>\n",
       "      <td>0.860370</td>\n",
       "      <td>0.849057</td>\n",
       "    </tr>\n",
       "    <tr>\n",
       "      <th>6</th>\n",
       "      <td>C=0.1 solver=liblinear penalty=l1</td>\n",
       "      <td>0.858559</td>\n",
       "      <td>0.849057</td>\n",
       "    </tr>\n",
       "    <tr>\n",
       "      <th>1</th>\n",
       "      <td>C=0.01 solver=lbfgs penalty=l2</td>\n",
       "      <td>0.859123</td>\n",
       "      <td>0.830189</td>\n",
       "    </tr>\n",
       "    <tr>\n",
       "      <th>2</th>\n",
       "      <td>C=0.1 solver=lbfgs penalty=l2</td>\n",
       "      <td>0.854333</td>\n",
       "      <td>0.792453</td>\n",
       "    </tr>\n",
       "    <tr>\n",
       "      <th>7</th>\n",
       "      <td>C=1 solver=liblinear penalty=l1</td>\n",
       "      <td>0.852230</td>\n",
       "      <td>0.792453</td>\n",
       "    </tr>\n",
       "    <tr>\n",
       "      <th>3</th>\n",
       "      <td>C=1 solver=lbfgs penalty=l2</td>\n",
       "      <td>0.852094</td>\n",
       "      <td>0.792453</td>\n",
       "    </tr>\n",
       "  </tbody>\n",
       "</table>\n",
       "</div>"
      ],
      "text/plain": [
       "                                params   roc_auc    recall\n",
       "5   C=0.01 solver=liblinear penalty=l1  0.820239  0.867925\n",
       "4  C=0.001 solver=liblinear penalty=l1  0.819158  0.867925\n",
       "0      C=0.001 solver=lbfgs penalty=l2  0.860370  0.849057\n",
       "6    C=0.1 solver=liblinear penalty=l1  0.858559  0.849057\n",
       "1       C=0.01 solver=lbfgs penalty=l2  0.859123  0.830189\n",
       "2        C=0.1 solver=lbfgs penalty=l2  0.854333  0.792453\n",
       "7      C=1 solver=liblinear penalty=l1  0.852230  0.792453\n",
       "3          C=1 solver=lbfgs penalty=l2  0.852094  0.792453"
      ]
     },
     "execution_count": 25,
     "metadata": {},
     "output_type": "execute_result"
    }
   ],
   "source": [
    "model_results.sort_values(by=['recall', 'roc_auc'], ascending=False)"
   ]
  },
  {
   "cell_type": "code",
   "execution_count": 26,
   "id": "cf410cd7-6150-4cbc-bc18-ed06b989e440",
   "metadata": {
    "tags": []
   },
   "outputs": [],
   "source": [
    "val_results.loc[len(val_results)] = ['LogisticRegression']+model_results.iloc[5].to_list()"
   ]
  },
  {
   "cell_type": "markdown",
   "id": "c1102c2e-135f-4a95-acfd-e35e0c0878f6",
   "metadata": {
    "tags": []
   },
   "source": [
    "### Decision tree classifier"
   ]
  },
  {
   "cell_type": "code",
   "execution_count": 27,
   "id": "438bba97-5264-466c-86ac-3bb312703ff7",
   "metadata": {
    "tags": []
   },
   "outputs": [],
   "source": [
    "from sklearn.tree import DecisionTreeClassifier\n",
    "model_results.drop(model_results.index , inplace=True)\n",
    "\n",
    "for depth in [2, 3, 4, 5, 6, 7, 8, 9, 10, 15, 20, None]:\n",
    "    dt = DecisionTreeClassifier(max_depth=depth, class_weight='balanced', random_state=4)\n",
    "    dt.fit(X_train, y_train)\n",
    "    #y_pred = dt.predict(X_val)\n",
    "    y_pred = dt.predict_proba(X_val)[:, 1]\n",
    "    roc_auc=roc_auc_score(y_val, y_pred)\n",
    "    recall = recall_score(y_val, y_pred.round())\n",
    "    model_results.loc[len(model_results)] = ['max_depth=' +str(depth), roc_auc, recall]\n",
    "    "
   ]
  },
  {
   "cell_type": "code",
   "execution_count": 28,
   "id": "066176de-8e7a-48b8-95a6-1bd85125fe2c",
   "metadata": {},
   "outputs": [
    {
     "data": {
      "text/html": [
       "<div>\n",
       "<style scoped>\n",
       "    .dataframe tbody tr th:only-of-type {\n",
       "        vertical-align: middle;\n",
       "    }\n",
       "\n",
       "    .dataframe tbody tr th {\n",
       "        vertical-align: top;\n",
       "    }\n",
       "\n",
       "    .dataframe thead th {\n",
       "        text-align: right;\n",
       "    }\n",
       "</style>\n",
       "<table border=\"1\" class=\"dataframe\">\n",
       "  <thead>\n",
       "    <tr style=\"text-align: right;\">\n",
       "      <th></th>\n",
       "      <th>params</th>\n",
       "      <th>roc_auc</th>\n",
       "      <th>recall</th>\n",
       "    </tr>\n",
       "  </thead>\n",
       "  <tbody>\n",
       "    <tr>\n",
       "      <th>1</th>\n",
       "      <td>max_depth=3</td>\n",
       "      <td>0.843838</td>\n",
       "      <td>0.886792</td>\n",
       "    </tr>\n",
       "    <tr>\n",
       "      <th>0</th>\n",
       "      <td>max_depth=2</td>\n",
       "      <td>0.832477</td>\n",
       "      <td>0.886792</td>\n",
       "    </tr>\n",
       "    <tr>\n",
       "      <th>2</th>\n",
       "      <td>max_depth=4</td>\n",
       "      <td>0.764258</td>\n",
       "      <td>0.811321</td>\n",
       "    </tr>\n",
       "    <tr>\n",
       "      <th>3</th>\n",
       "      <td>max_depth=5</td>\n",
       "      <td>0.742547</td>\n",
       "      <td>0.716981</td>\n",
       "    </tr>\n",
       "    <tr>\n",
       "      <th>4</th>\n",
       "      <td>max_depth=6</td>\n",
       "      <td>0.712960</td>\n",
       "      <td>0.641509</td>\n",
       "    </tr>\n",
       "    <tr>\n",
       "      <th>5</th>\n",
       "      <td>max_depth=7</td>\n",
       "      <td>0.692233</td>\n",
       "      <td>0.566038</td>\n",
       "    </tr>\n",
       "    <tr>\n",
       "      <th>6</th>\n",
       "      <td>max_depth=8</td>\n",
       "      <td>0.691386</td>\n",
       "      <td>0.547170</td>\n",
       "    </tr>\n",
       "    <tr>\n",
       "      <th>7</th>\n",
       "      <td>max_depth=9</td>\n",
       "      <td>0.682517</td>\n",
       "      <td>0.509434</td>\n",
       "    </tr>\n",
       "    <tr>\n",
       "      <th>8</th>\n",
       "      <td>max_depth=10</td>\n",
       "      <td>0.653796</td>\n",
       "      <td>0.452830</td>\n",
       "    </tr>\n",
       "    <tr>\n",
       "      <th>9</th>\n",
       "      <td>max_depth=15</td>\n",
       "      <td>0.569903</td>\n",
       "      <td>0.188679</td>\n",
       "    </tr>\n",
       "    <tr>\n",
       "      <th>10</th>\n",
       "      <td>max_depth=20</td>\n",
       "      <td>0.557568</td>\n",
       "      <td>0.150943</td>\n",
       "    </tr>\n",
       "    <tr>\n",
       "      <th>11</th>\n",
       "      <td>max_depth=None</td>\n",
       "      <td>0.550558</td>\n",
       "      <td>0.132075</td>\n",
       "    </tr>\n",
       "  </tbody>\n",
       "</table>\n",
       "</div>"
      ],
      "text/plain": [
       "            params   roc_auc    recall\n",
       "1      max_depth=3  0.843838  0.886792\n",
       "0      max_depth=2  0.832477  0.886792\n",
       "2      max_depth=4  0.764258  0.811321\n",
       "3      max_depth=5  0.742547  0.716981\n",
       "4      max_depth=6  0.712960  0.641509\n",
       "5      max_depth=7  0.692233  0.566038\n",
       "6      max_depth=8  0.691386  0.547170\n",
       "7      max_depth=9  0.682517  0.509434\n",
       "8     max_depth=10  0.653796  0.452830\n",
       "9     max_depth=15  0.569903  0.188679\n",
       "10    max_depth=20  0.557568  0.150943\n",
       "11  max_depth=None  0.550558  0.132075"
      ]
     },
     "execution_count": 28,
     "metadata": {},
     "output_type": "execute_result"
    }
   ],
   "source": [
    "model_results.sort_values(by=['recall', 'roc_auc'], ascending=False)"
   ]
  },
  {
   "cell_type": "code",
   "execution_count": 29,
   "id": "54dd5e2e-2d78-4a74-a39a-62845e72acd2",
   "metadata": {
    "tags": []
   },
   "outputs": [],
   "source": [
    "val_results.loc[len(val_results)] = ['DecisionTreeClassifier']+model_results.iloc[1].to_list()"
   ]
  },
  {
   "cell_type": "markdown",
   "id": "d89a01f5-7177-440c-8568-ae9b7850c897",
   "metadata": {
    "tags": []
   },
   "source": [
    "### Random forest classifier"
   ]
  },
  {
   "cell_type": "code",
   "execution_count": 30,
   "id": "54dda331-40b1-40a8-bd2f-4eef76111803",
   "metadata": {
    "tags": []
   },
   "outputs": [],
   "source": [
    "from sklearn.ensemble import RandomForestClassifier\n",
    "model_results.drop(model_results.index , inplace=True)\n",
    "for depth in [2, 4, 6, 8, 10]:\n",
    "    for n in range(10, 201, 10):\n",
    "        rf = RandomForestClassifier(n_estimators=n,max_depth=depth, random_state=4, class_weight='balanced')\n",
    "        rf.fit(X_train, y_train)\n",
    "        #y_pred = rf.predict(X_val)\n",
    "        y_pred = rf.predict_proba(X_val)[:, 1]\n",
    "        roc_auc=roc_auc_score(y_val, y_pred)\n",
    "        recall = recall_score(y_val, y_pred.round())\n",
    "        model_results.loc[len(model_results)] = ['max_depth='+ str(depth) +' n_estimators=' +str(n), roc_auc, recall]\n",
    "    "
   ]
  },
  {
   "cell_type": "code",
   "execution_count": 31,
   "id": "dddace34-bb17-4538-8512-50e21582c4a9",
   "metadata": {
    "tags": []
   },
   "outputs": [
    {
     "data": {
      "text/html": [
       "<div>\n",
       "<style scoped>\n",
       "    .dataframe tbody tr th:only-of-type {\n",
       "        vertical-align: middle;\n",
       "    }\n",
       "\n",
       "    .dataframe tbody tr th {\n",
       "        vertical-align: top;\n",
       "    }\n",
       "\n",
       "    .dataframe thead th {\n",
       "        text-align: right;\n",
       "    }\n",
       "</style>\n",
       "<table border=\"1\" class=\"dataframe\">\n",
       "  <thead>\n",
       "    <tr style=\"text-align: right;\">\n",
       "      <th></th>\n",
       "      <th>params</th>\n",
       "      <th>roc_auc</th>\n",
       "      <th>recall</th>\n",
       "    </tr>\n",
       "  </thead>\n",
       "  <tbody>\n",
       "    <tr>\n",
       "      <th>3</th>\n",
       "      <td>max_depth=2 n_estimators=40</td>\n",
       "      <td>0.834648</td>\n",
       "      <td>0.943396</td>\n",
       "    </tr>\n",
       "    <tr>\n",
       "      <th>2</th>\n",
       "      <td>max_depth=2 n_estimators=30</td>\n",
       "      <td>0.832009</td>\n",
       "      <td>0.943396</td>\n",
       "    </tr>\n",
       "    <tr>\n",
       "      <th>18</th>\n",
       "      <td>max_depth=2 n_estimators=190</td>\n",
       "      <td>0.833664</td>\n",
       "      <td>0.924528</td>\n",
       "    </tr>\n",
       "    <tr>\n",
       "      <th>1</th>\n",
       "      <td>max_depth=2 n_estimators=20</td>\n",
       "      <td>0.828981</td>\n",
       "      <td>0.924528</td>\n",
       "    </tr>\n",
       "    <tr>\n",
       "      <th>6</th>\n",
       "      <td>max_depth=2 n_estimators=70</td>\n",
       "      <td>0.834580</td>\n",
       "      <td>0.905660</td>\n",
       "    </tr>\n",
       "    <tr>\n",
       "      <th>...</th>\n",
       "      <td>...</td>\n",
       "      <td>...</td>\n",
       "      <td>...</td>\n",
       "    </tr>\n",
       "    <tr>\n",
       "      <th>88</th>\n",
       "      <td>max_depth=10 n_estimators=90</td>\n",
       "      <td>0.794147</td>\n",
       "      <td>0.075472</td>\n",
       "    </tr>\n",
       "    <tr>\n",
       "      <th>89</th>\n",
       "      <td>max_depth=10 n_estimators=100</td>\n",
       "      <td>0.793271</td>\n",
       "      <td>0.075472</td>\n",
       "    </tr>\n",
       "    <tr>\n",
       "      <th>90</th>\n",
       "      <td>max_depth=10 n_estimators=110</td>\n",
       "      <td>0.793037</td>\n",
       "      <td>0.075472</td>\n",
       "    </tr>\n",
       "    <tr>\n",
       "      <th>87</th>\n",
       "      <td>max_depth=10 n_estimators=80</td>\n",
       "      <td>0.792433</td>\n",
       "      <td>0.075472</td>\n",
       "    </tr>\n",
       "    <tr>\n",
       "      <th>86</th>\n",
       "      <td>max_depth=10 n_estimators=70</td>\n",
       "      <td>0.790019</td>\n",
       "      <td>0.075472</td>\n",
       "    </tr>\n",
       "  </tbody>\n",
       "</table>\n",
       "<p>100 rows × 3 columns</p>\n",
       "</div>"
      ],
      "text/plain": [
       "                           params   roc_auc    recall\n",
       "3     max_depth=2 n_estimators=40  0.834648  0.943396\n",
       "2     max_depth=2 n_estimators=30  0.832009  0.943396\n",
       "18   max_depth=2 n_estimators=190  0.833664  0.924528\n",
       "1     max_depth=2 n_estimators=20  0.828981  0.924528\n",
       "6     max_depth=2 n_estimators=70  0.834580  0.905660\n",
       "..                            ...       ...       ...\n",
       "88   max_depth=10 n_estimators=90  0.794147  0.075472\n",
       "89  max_depth=10 n_estimators=100  0.793271  0.075472\n",
       "90  max_depth=10 n_estimators=110  0.793037  0.075472\n",
       "87   max_depth=10 n_estimators=80  0.792433  0.075472\n",
       "86   max_depth=10 n_estimators=70  0.790019  0.075472\n",
       "\n",
       "[100 rows x 3 columns]"
      ]
     },
     "execution_count": 31,
     "metadata": {},
     "output_type": "execute_result"
    }
   ],
   "source": [
    "model_results.sort_values(by=['recall', 'roc_auc'], ascending=False)"
   ]
  },
  {
   "cell_type": "code",
   "execution_count": 32,
   "id": "ef09cedf-ae1c-4ac8-8e53-f8a34db88c7f",
   "metadata": {
    "tags": []
   },
   "outputs": [],
   "source": [
    "val_results.loc[len(val_results)] = ['RandomForestClassifier']+model_results.iloc[3].to_list()"
   ]
  },
  {
   "cell_type": "markdown",
   "id": "c49fe52d-4937-4db3-8d24-9e51bdd71523",
   "metadata": {
    "tags": []
   },
   "source": [
    "### Gradient boosting"
   ]
  },
  {
   "cell_type": "code",
   "execution_count": 34,
   "id": "3774f60e-4e5b-4e07-abc6-0934e0cc13d7",
   "metadata": {
    "tags": []
   },
   "outputs": [],
   "source": [
    "from sklearn.ensemble import GradientBoostingClassifier\n",
    "model_results.drop(model_results.index , inplace=True)\n",
    "for depth in [1, 2, 3, 4, 5]:\n",
    "    for n in[10, 50, 100, 200]:\n",
    "        for l in [0.001, 0.01, 0.1, 1]:\n",
    "            gb = GradientBoostingClassifier(learning_rate=l, n_estimators=n, max_depth=depth, random_state=4)\n",
    "            gb.fit(X_train, y_train)\n",
    "            y_pred = gb.predict_proba(X_val)[:, 1]\n",
    "            roc_auc=roc_auc_score(y_val, y_pred)\n",
    "            recall = recall_score(y_val, y_pred.round())\n",
    "            model_results.loc[len(model_results)] = ['max_depth='+ str(depth) +' n_estimators=' +str(n) +\n",
    "                                                     ' learning_rate'+str(l), roc_auc, recall]\n"
   ]
  },
  {
   "cell_type": "code",
   "execution_count": 35,
   "id": "d8a80407-3bfc-488f-97d0-c0ba6e412ef8",
   "metadata": {
    "tags": []
   },
   "outputs": [
    {
     "data": {
      "text/html": [
       "<div>\n",
       "<style scoped>\n",
       "    .dataframe tbody tr th:only-of-type {\n",
       "        vertical-align: middle;\n",
       "    }\n",
       "\n",
       "    .dataframe tbody tr th {\n",
       "        vertical-align: top;\n",
       "    }\n",
       "\n",
       "    .dataframe thead th {\n",
       "        text-align: right;\n",
       "    }\n",
       "</style>\n",
       "<table border=\"1\" class=\"dataframe\">\n",
       "  <thead>\n",
       "    <tr style=\"text-align: right;\">\n",
       "      <th></th>\n",
       "      <th>params</th>\n",
       "      <th>roc_auc</th>\n",
       "      <th>recall</th>\n",
       "    </tr>\n",
       "  </thead>\n",
       "  <tbody>\n",
       "    <tr>\n",
       "      <th>71</th>\n",
       "      <td>max_depth=5 n_estimators=50 learning_rate1</td>\n",
       "      <td>0.701141</td>\n",
       "      <td>0.245283</td>\n",
       "    </tr>\n",
       "    <tr>\n",
       "      <th>75</th>\n",
       "      <td>max_depth=5 n_estimators=100 learning_rate1</td>\n",
       "      <td>0.684064</td>\n",
       "      <td>0.245283</td>\n",
       "    </tr>\n",
       "    <tr>\n",
       "      <th>79</th>\n",
       "      <td>max_depth=5 n_estimators=200 learning_rate1</td>\n",
       "      <td>0.640701</td>\n",
       "      <td>0.245283</td>\n",
       "    </tr>\n",
       "    <tr>\n",
       "      <th>67</th>\n",
       "      <td>max_depth=5 n_estimators=10 learning_rate1</td>\n",
       "      <td>0.714956</td>\n",
       "      <td>0.188679</td>\n",
       "    </tr>\n",
       "    <tr>\n",
       "      <th>43</th>\n",
       "      <td>max_depth=3 n_estimators=100 learning_rate1</td>\n",
       "      <td>0.736774</td>\n",
       "      <td>0.150943</td>\n",
       "    </tr>\n",
       "    <tr>\n",
       "      <th>...</th>\n",
       "      <td>...</td>\n",
       "      <td>...</td>\n",
       "      <td>...</td>\n",
       "    </tr>\n",
       "    <tr>\n",
       "      <th>68</th>\n",
       "      <td>max_depth=5 n_estimators=50 learning_rate0.001</td>\n",
       "      <td>0.818438</td>\n",
       "      <td>0.000000</td>\n",
       "    </tr>\n",
       "    <tr>\n",
       "      <th>72</th>\n",
       "      <td>max_depth=5 n_estimators=100 learning_rate0.001</td>\n",
       "      <td>0.818311</td>\n",
       "      <td>0.000000</td>\n",
       "    </tr>\n",
       "    <tr>\n",
       "      <th>64</th>\n",
       "      <td>max_depth=5 n_estimators=10 learning_rate0.001</td>\n",
       "      <td>0.798275</td>\n",
       "      <td>0.000000</td>\n",
       "    </tr>\n",
       "    <tr>\n",
       "      <th>0</th>\n",
       "      <td>max_depth=1 n_estimators=10 learning_rate0.001</td>\n",
       "      <td>0.755077</td>\n",
       "      <td>0.000000</td>\n",
       "    </tr>\n",
       "    <tr>\n",
       "      <th>4</th>\n",
       "      <td>max_depth=1 n_estimators=50 learning_rate0.001</td>\n",
       "      <td>0.755077</td>\n",
       "      <td>0.000000</td>\n",
       "    </tr>\n",
       "  </tbody>\n",
       "</table>\n",
       "<p>80 rows × 3 columns</p>\n",
       "</div>"
      ],
      "text/plain": [
       "                                             params   roc_auc    recall\n",
       "71       max_depth=5 n_estimators=50 learning_rate1  0.701141  0.245283\n",
       "75      max_depth=5 n_estimators=100 learning_rate1  0.684064  0.245283\n",
       "79      max_depth=5 n_estimators=200 learning_rate1  0.640701  0.245283\n",
       "67       max_depth=5 n_estimators=10 learning_rate1  0.714956  0.188679\n",
       "43      max_depth=3 n_estimators=100 learning_rate1  0.736774  0.150943\n",
       "..                                              ...       ...       ...\n",
       "68   max_depth=5 n_estimators=50 learning_rate0.001  0.818438  0.000000\n",
       "72  max_depth=5 n_estimators=100 learning_rate0.001  0.818311  0.000000\n",
       "64   max_depth=5 n_estimators=10 learning_rate0.001  0.798275  0.000000\n",
       "0    max_depth=1 n_estimators=10 learning_rate0.001  0.755077  0.000000\n",
       "4    max_depth=1 n_estimators=50 learning_rate0.001  0.755077  0.000000\n",
       "\n",
       "[80 rows x 3 columns]"
      ]
     },
     "execution_count": 35,
     "metadata": {},
     "output_type": "execute_result"
    }
   ],
   "source": [
    "model_results.sort_values(by=['recall', 'roc_auc'], ascending=False)"
   ]
  },
  {
   "cell_type": "code",
   "execution_count": 36,
   "id": "03308152-8ae8-4daf-a059-a5d351727f5e",
   "metadata": {
    "tags": []
   },
   "outputs": [],
   "source": [
    "val_results.loc[len(val_results)] = ['GradientBoostingClassifier']+model_results.iloc[71].to_list()"
   ]
  },
  {
   "cell_type": "code",
   "execution_count": 37,
   "id": "bb67d476-195f-4eb9-823b-dba8cba7de88",
   "metadata": {
    "tags": []
   },
   "outputs": [
    {
     "data": {
      "text/html": [
       "<div>\n",
       "<style scoped>\n",
       "    .dataframe tbody tr th:only-of-type {\n",
       "        vertical-align: middle;\n",
       "    }\n",
       "\n",
       "    .dataframe tbody tr th {\n",
       "        vertical-align: top;\n",
       "    }\n",
       "\n",
       "    .dataframe thead th {\n",
       "        text-align: right;\n",
       "    }\n",
       "</style>\n",
       "<table border=\"1\" class=\"dataframe\">\n",
       "  <thead>\n",
       "    <tr style=\"text-align: right;\">\n",
       "      <th></th>\n",
       "      <th>model</th>\n",
       "      <th>params</th>\n",
       "      <th>roc_auc</th>\n",
       "      <th>recall</th>\n",
       "    </tr>\n",
       "  </thead>\n",
       "  <tbody>\n",
       "    <tr>\n",
       "      <th>0</th>\n",
       "      <td>LogisticRegression</td>\n",
       "      <td>C=0.01 solver=liblinear penalty=l1</td>\n",
       "      <td>0.820239</td>\n",
       "      <td>0.867925</td>\n",
       "    </tr>\n",
       "    <tr>\n",
       "      <th>1</th>\n",
       "      <td>DecisionTreeClassifier</td>\n",
       "      <td>max_depth=3</td>\n",
       "      <td>0.843838</td>\n",
       "      <td>0.886792</td>\n",
       "    </tr>\n",
       "    <tr>\n",
       "      <th>2</th>\n",
       "      <td>RandomForestClassifier</td>\n",
       "      <td>max_depth=2 n_estimators=40</td>\n",
       "      <td>0.834648</td>\n",
       "      <td>0.943396</td>\n",
       "    </tr>\n",
       "    <tr>\n",
       "      <th>3</th>\n",
       "      <td>GradientBoostingClassifier</td>\n",
       "      <td>max_depth=5 n_estimators=50 learning_rate1</td>\n",
       "      <td>0.701141</td>\n",
       "      <td>0.245283</td>\n",
       "    </tr>\n",
       "  </tbody>\n",
       "</table>\n",
       "</div>"
      ],
      "text/plain": [
       "                        model                                      params  \\\n",
       "0          LogisticRegression          C=0.01 solver=liblinear penalty=l1   \n",
       "1      DecisionTreeClassifier                                 max_depth=3   \n",
       "2      RandomForestClassifier                 max_depth=2 n_estimators=40   \n",
       "3  GradientBoostingClassifier  max_depth=5 n_estimators=50 learning_rate1   \n",
       "\n",
       "    roc_auc    recall  \n",
       "0  0.820239  0.867925  \n",
       "1  0.843838  0.886792  \n",
       "2  0.834648  0.943396  \n",
       "3  0.701141  0.245283  "
      ]
     },
     "execution_count": 37,
     "metadata": {},
     "output_type": "execute_result"
    }
   ],
   "source": [
    "val_results"
   ]
  },
  {
   "cell_type": "markdown",
   "id": "422c467c-21e4-4a29-a6c8-2eef236a799a",
   "metadata": {
    "tags": []
   },
   "source": [
    "## Final model training"
   ]
  },
  {
   "cell_type": "code",
   "execution_count": 38,
   "id": "fc5d6cb5-6e81-4954-9db3-32b6457c1d23",
   "metadata": {
    "tags": []
   },
   "outputs": [],
   "source": [
    "y_train= df_train_full['stroke']\n",
    "X_train = df_train_full.drop('stroke', axis=1)\n",
    "\n",
    "dv = DictVectorizer(sparse=True)\n",
    "\n",
    "train_dict = X_train.to_dict(orient='records')\n",
    "test_dict = X_test.to_dict(orient='records')\n",
    "\n",
    "X_train = dv.fit_transform(train_dict)\n",
    "X_test = dv.transform(test_dict)\n"
   ]
  },
  {
   "cell_type": "code",
   "execution_count": 39,
   "id": "c260f4ff-e4a1-4223-ba81-8d57b7e4ac88",
   "metadata": {
    "tags": []
   },
   "outputs": [
    {
     "data": {
      "text/html": [
       "<style>#sk-container-id-1 {color: black;}#sk-container-id-1 pre{padding: 0;}#sk-container-id-1 div.sk-toggleable {background-color: white;}#sk-container-id-1 label.sk-toggleable__label {cursor: pointer;display: block;width: 100%;margin-bottom: 0;padding: 0.3em;box-sizing: border-box;text-align: center;}#sk-container-id-1 label.sk-toggleable__label-arrow:before {content: \"▸\";float: left;margin-right: 0.25em;color: #696969;}#sk-container-id-1 label.sk-toggleable__label-arrow:hover:before {color: black;}#sk-container-id-1 div.sk-estimator:hover label.sk-toggleable__label-arrow:before {color: black;}#sk-container-id-1 div.sk-toggleable__content {max-height: 0;max-width: 0;overflow: hidden;text-align: left;background-color: #f0f8ff;}#sk-container-id-1 div.sk-toggleable__content pre {margin: 0.2em;color: black;border-radius: 0.25em;background-color: #f0f8ff;}#sk-container-id-1 input.sk-toggleable__control:checked~div.sk-toggleable__content {max-height: 200px;max-width: 100%;overflow: auto;}#sk-container-id-1 input.sk-toggleable__control:checked~label.sk-toggleable__label-arrow:before {content: \"▾\";}#sk-container-id-1 div.sk-estimator input.sk-toggleable__control:checked~label.sk-toggleable__label {background-color: #d4ebff;}#sk-container-id-1 div.sk-label input.sk-toggleable__control:checked~label.sk-toggleable__label {background-color: #d4ebff;}#sk-container-id-1 input.sk-hidden--visually {border: 0;clip: rect(1px 1px 1px 1px);clip: rect(1px, 1px, 1px, 1px);height: 1px;margin: -1px;overflow: hidden;padding: 0;position: absolute;width: 1px;}#sk-container-id-1 div.sk-estimator {font-family: monospace;background-color: #f0f8ff;border: 1px dotted black;border-radius: 0.25em;box-sizing: border-box;margin-bottom: 0.5em;}#sk-container-id-1 div.sk-estimator:hover {background-color: #d4ebff;}#sk-container-id-1 div.sk-parallel-item::after {content: \"\";width: 100%;border-bottom: 1px solid gray;flex-grow: 1;}#sk-container-id-1 div.sk-label:hover label.sk-toggleable__label {background-color: #d4ebff;}#sk-container-id-1 div.sk-serial::before {content: \"\";position: absolute;border-left: 1px solid gray;box-sizing: border-box;top: 0;bottom: 0;left: 50%;z-index: 0;}#sk-container-id-1 div.sk-serial {display: flex;flex-direction: column;align-items: center;background-color: white;padding-right: 0.2em;padding-left: 0.2em;position: relative;}#sk-container-id-1 div.sk-item {position: relative;z-index: 1;}#sk-container-id-1 div.sk-parallel {display: flex;align-items: stretch;justify-content: center;background-color: white;position: relative;}#sk-container-id-1 div.sk-item::before, #sk-container-id-1 div.sk-parallel-item::before {content: \"\";position: absolute;border-left: 1px solid gray;box-sizing: border-box;top: 0;bottom: 0;left: 50%;z-index: -1;}#sk-container-id-1 div.sk-parallel-item {display: flex;flex-direction: column;z-index: 1;position: relative;background-color: white;}#sk-container-id-1 div.sk-parallel-item:first-child::after {align-self: flex-end;width: 50%;}#sk-container-id-1 div.sk-parallel-item:last-child::after {align-self: flex-start;width: 50%;}#sk-container-id-1 div.sk-parallel-item:only-child::after {width: 0;}#sk-container-id-1 div.sk-dashed-wrapped {border: 1px dashed gray;margin: 0 0.4em 0.5em 0.4em;box-sizing: border-box;padding-bottom: 0.4em;background-color: white;}#sk-container-id-1 div.sk-label label {font-family: monospace;font-weight: bold;display: inline-block;line-height: 1.2em;}#sk-container-id-1 div.sk-label-container {text-align: center;}#sk-container-id-1 div.sk-container {/* jupyter's `normalize.less` sets `[hidden] { display: none; }` but bootstrap.min.css set `[hidden] { display: none !important; }` so we also need the `!important` here to be able to override the default hidden behavior on the sphinx rendered scikit-learn.org. See: https://github.com/scikit-learn/scikit-learn/issues/21755 */display: inline-block !important;position: relative;}#sk-container-id-1 div.sk-text-repr-fallback {display: none;}</style><div id=\"sk-container-id-1\" class=\"sk-top-container\"><div class=\"sk-text-repr-fallback\"><pre>RandomForestClassifier(class_weight=&#x27;balanced&#x27;, max_depth=2, n_estimators=40,\n",
       "                       random_state=4)</pre><b>In a Jupyter environment, please rerun this cell to show the HTML representation or trust the notebook. <br />On GitHub, the HTML representation is unable to render, please try loading this page with nbviewer.org.</b></div><div class=\"sk-container\" hidden><div class=\"sk-item\"><div class=\"sk-estimator sk-toggleable\"><input class=\"sk-toggleable__control sk-hidden--visually\" id=\"sk-estimator-id-1\" type=\"checkbox\" checked><label for=\"sk-estimator-id-1\" class=\"sk-toggleable__label sk-toggleable__label-arrow\">RandomForestClassifier</label><div class=\"sk-toggleable__content\"><pre>RandomForestClassifier(class_weight=&#x27;balanced&#x27;, max_depth=2, n_estimators=40,\n",
       "                       random_state=4)</pre></div></div></div></div></div>"
      ],
      "text/plain": [
       "RandomForestClassifier(class_weight='balanced', max_depth=2, n_estimators=40,\n",
       "                       random_state=4)"
      ]
     },
     "execution_count": 39,
     "metadata": {},
     "output_type": "execute_result"
    }
   ],
   "source": [
    "model = RandomForestClassifier(random_state=4, max_depth=2, n_estimators=40, class_weight='balanced')\n",
    "model.fit(X_train, y_train)"
   ]
  },
  {
   "cell_type": "code",
   "execution_count": 40,
   "id": "df0a5561-3b56-4796-89d9-3b5d425ec00d",
   "metadata": {
    "tags": []
   },
   "outputs": [
    {
     "name": "stdout",
     "output_type": "stream",
     "text": [
      "ROC AUC: 0.81\n",
      "Recall: 0.84\n"
     ]
    }
   ],
   "source": [
    "y_pred = model.predict_proba(X_test)[:, 1]\n",
    "print(\"ROC AUC:\", round(roc_auc_score(y_test, y_pred), 2))\n",
    "print(\"Recall:\", recall_score(y_test, y_pred.round()))"
   ]
  }
 ],
 "metadata": {
  "kernelspec": {
   "display_name": "Python 3 (ipykernel)",
   "language": "python",
   "name": "python3"
  },
  "language_info": {
   "codemirror_mode": {
    "name": "ipython",
    "version": 3
   },
   "file_extension": ".py",
   "mimetype": "text/x-python",
   "name": "python",
   "nbconvert_exporter": "python",
   "pygments_lexer": "ipython3",
   "version": "3.9.18"
  }
 },
 "nbformat": 4,
 "nbformat_minor": 5
}
